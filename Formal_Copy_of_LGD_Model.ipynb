{
  "nbformat": 4,
  "nbformat_minor": 0,
  "metadata": {
    "colab": {
      "name": "Formal Copy of LGD Model",
      "provenance": [],
      "toc_visible": true,
      "machine_shape": "hm",
      "include_colab_link": true
    },
    "kernelspec": {
      "name": "python3",
      "display_name": "Python 3"
    },
    "accelerator": "GPU"
  },
  "cells": [
    {
      "cell_type": "markdown",
      "metadata": {
        "id": "view-in-github",
        "colab_type": "text"
      },
      "source": [
        "<a href=\"https://colab.research.google.com/github/stayxyz/CreditAnalytics/blob/master/Formal_Copy_of_LGD_Model.ipynb\" target=\"_parent\"><img src=\"https://colab.research.google.com/assets/colab-badge.svg\" alt=\"Open In Colab\"/></a>"
      ]
    },
    {
      "cell_type": "markdown",
      "metadata": {
        "id": "yexrc9V7PJp5",
        "colab_type": "text"
      },
      "source": [
        "# Part III Constructing LGD Using Random Forest Tree & XGBoosting "
      ]
    },
    {
      "cell_type": "code",
      "metadata": {
        "id": "UXEmbSKGdiNm",
        "colab_type": "code",
        "colab": {}
      },
      "source": [
        "import pandas as pd"
      ],
      "execution_count": null,
      "outputs": []
    },
    {
      "cell_type": "code",
      "metadata": {
        "id": "5Nebm2HOP5i8",
        "colab_type": "code",
        "colab": {
          "base_uri": "https://localhost:8080/",
          "height": 85
        },
        "outputId": "fa3d3d11-6cd1-425f-fc88-cb519162552d"
      },
      "source": [
        "!gdown https://drive.google.com/uc?id=1zdZXOrj7_2li4LNZTbgMW7d12k0YqUao"
      ],
      "execution_count": null,
      "outputs": [
        {
          "output_type": "stream",
          "text": [
            "Downloading...\n",
            "From: https://drive.google.com/uc?id=1zdZXOrj7_2li4LNZTbgMW7d12k0YqUao\n",
            "To: /content/LGD_data2.csv\n",
            "47.0MB [00:00, 219MB/s]\n"
          ],
          "name": "stdout"
        }
      ]
    },
    {
      "cell_type": "code",
      "metadata": {
        "id": "z2fv8zF6Q1yE",
        "colab_type": "code",
        "colab": {}
      },
      "source": [
        "LGD_data = pd.read_csv('LGD_data2.csv')"
      ],
      "execution_count": null,
      "outputs": []
    },
    {
      "cell_type": "code",
      "metadata": {
        "id": "Klg9DhxZ_1Fv",
        "colab_type": "code",
        "colab": {
          "base_uri": "https://localhost:8080/",
          "height": 309
        },
        "outputId": "7facb840-583b-4238-a058-08c0fdd72177"
      },
      "source": [
        "LGD_data.head()"
      ],
      "execution_count": null,
      "outputs": [
        {
          "output_type": "execute_result",
          "data": {
            "text/html": [
              "<div>\n",
              "<style scoped>\n",
              "    .dataframe tbody tr th:only-of-type {\n",
              "        vertical-align: middle;\n",
              "    }\n",
              "\n",
              "    .dataframe tbody tr th {\n",
              "        vertical-align: top;\n",
              "    }\n",
              "\n",
              "    .dataframe thead th {\n",
              "        text-align: right;\n",
              "    }\n",
              "</style>\n",
              "<table border=\"1\" class=\"dataframe\">\n",
              "  <thead>\n",
              "    <tr style=\"text-align: right;\">\n",
              "      <th></th>\n",
              "      <th>loan_amnt</th>\n",
              "      <th>term</th>\n",
              "      <th>emp_length</th>\n",
              "      <th>home_ownership</th>\n",
              "      <th>annual_inc</th>\n",
              "      <th>loan_status</th>\n",
              "      <th>purpose</th>\n",
              "      <th>zip_code</th>\n",
              "      <th>dti</th>\n",
              "      <th>delinq_2yrs</th>\n",
              "      <th>earliest_cr_line</th>\n",
              "      <th>inq_last_6mths</th>\n",
              "      <th>mths_since_last_record</th>\n",
              "      <th>total_acc</th>\n",
              "      <th>out_prncp</th>\n",
              "      <th>total_pymnt</th>\n",
              "      <th>total_rec_int</th>\n",
              "      <th>last_credit_pull_d</th>\n",
              "      <th>last_fico_range_low</th>\n",
              "      <th>collections_12_mths_ex_med</th>\n",
              "      <th>mths_since_last_major_derog</th>\n",
              "      <th>application_type</th>\n",
              "      <th>acc_now_delinq</th>\n",
              "      <th>tot_coll_amt</th>\n",
              "      <th>tot_cur_bal</th>\n",
              "      <th>open_act_il</th>\n",
              "      <th>open_il_24m</th>\n",
              "      <th>open_rv_24m</th>\n",
              "      <th>max_bal_bc</th>\n",
              "      <th>all_util</th>\n",
              "      <th>total_rev_hi_lim</th>\n",
              "      <th>inq_fi</th>\n",
              "      <th>total_cu_tl</th>\n",
              "      <th>chargeoff_within_12_mths</th>\n",
              "      <th>delinq_amnt</th>\n",
              "      <th>mo_sin_old_rev_tl_op</th>\n",
              "      <th>mo_sin_rcnt_rev_tl_op</th>\n",
              "      <th>mort_acc</th>\n",
              "      <th>mths_since_recent_inq</th>\n",
              "      <th>mths_since_recent_revol_delinq</th>\n",
              "      <th>num_accts_ever_120_pd</th>\n",
              "      <th>num_actv_bc_tl</th>\n",
              "      <th>num_op_rev_tl</th>\n",
              "      <th>num_tl_120dpd_2m</th>\n",
              "      <th>num_tl_90g_dpd_24m</th>\n",
              "      <th>num_tl_op_past_12m</th>\n",
              "      <th>percent_bc_gt_75</th>\n",
              "      <th>pub_rec_bankruptcies</th>\n",
              "      <th>tax_liens</th>\n",
              "      <th>tot_hi_cred_lim</th>\n",
              "      <th>total_bc_limit</th>\n",
              "      <th>total_il_high_credit_limit</th>\n",
              "      <th>hardship_flag</th>\n",
              "      <th>hardship_amount</th>\n",
              "      <th>debt_settlement_flag</th>\n",
              "      <th>LGD</th>\n",
              "    </tr>\n",
              "  </thead>\n",
              "  <tbody>\n",
              "    <tr>\n",
              "      <th>0</th>\n",
              "      <td>18000.0</td>\n",
              "      <td>60 months</td>\n",
              "      <td>7</td>\n",
              "      <td>RENT</td>\n",
              "      <td>150000.0</td>\n",
              "      <td>1</td>\n",
              "      <td>debt_consolidation</td>\n",
              "      <td>9</td>\n",
              "      <td>9.39</td>\n",
              "      <td>0.0</td>\n",
              "      <td>2005.0</td>\n",
              "      <td>1.0</td>\n",
              "      <td>75.0</td>\n",
              "      <td>27.0</td>\n",
              "      <td>0.0</td>\n",
              "      <td>9452.74</td>\n",
              "      <td>4351.98</td>\n",
              "      <td>2017.0</td>\n",
              "      <td>580.0</td>\n",
              "      <td>0.0</td>\n",
              "      <td>-1.0</td>\n",
              "      <td>Individual</td>\n",
              "      <td>0.0</td>\n",
              "      <td>60.0</td>\n",
              "      <td>36247.0</td>\n",
              "      <td>2.0</td>\n",
              "      <td>3.0</td>\n",
              "      <td>4.0</td>\n",
              "      <td>1271.0</td>\n",
              "      <td>55.0</td>\n",
              "      <td>34500.0</td>\n",
              "      <td>2.0</td>\n",
              "      <td>1.0</td>\n",
              "      <td>0.0</td>\n",
              "      <td>0.0</td>\n",
              "      <td>112.0</td>\n",
              "      <td>1.0</td>\n",
              "      <td>2.0</td>\n",
              "      <td>2.0</td>\n",
              "      <td>-1.0</td>\n",
              "      <td>0.0</td>\n",
              "      <td>6.0</td>\n",
              "      <td>16.0</td>\n",
              "      <td>0.0</td>\n",
              "      <td>0.0</td>\n",
              "      <td>3.0</td>\n",
              "      <td>14.3</td>\n",
              "      <td>1.0</td>\n",
              "      <td>0.0</td>\n",
              "      <td>65819.0</td>\n",
              "      <td>10300.0</td>\n",
              "      <td>31319.0</td>\n",
              "      <td>N</td>\n",
              "      <td>0.0</td>\n",
              "      <td>N</td>\n",
              "      <td>0.908563</td>\n",
              "    </tr>\n",
              "    <tr>\n",
              "      <th>1</th>\n",
              "      <td>16000.0</td>\n",
              "      <td>36 months</td>\n",
              "      <td>10</td>\n",
              "      <td>MORTGAGE</td>\n",
              "      <td>65000.0</td>\n",
              "      <td>1</td>\n",
              "      <td>small_business</td>\n",
              "      <td>3</td>\n",
              "      <td>18.96</td>\n",
              "      <td>0.0</td>\n",
              "      <td>1985.0</td>\n",
              "      <td>0.0</td>\n",
              "      <td>66.0</td>\n",
              "      <td>20.0</td>\n",
              "      <td>0.0</td>\n",
              "      <td>17396.63</td>\n",
              "      <td>3402.05</td>\n",
              "      <td>2019.0</td>\n",
              "      <td>625.0</td>\n",
              "      <td>0.0</td>\n",
              "      <td>55.0</td>\n",
              "      <td>Individual</td>\n",
              "      <td>0.0</td>\n",
              "      <td>1830.0</td>\n",
              "      <td>39781.0</td>\n",
              "      <td>2.0</td>\n",
              "      <td>0.0</td>\n",
              "      <td>2.0</td>\n",
              "      <td>739.0</td>\n",
              "      <td>64.0</td>\n",
              "      <td>9500.0</td>\n",
              "      <td>0.0</td>\n",
              "      <td>5.0</td>\n",
              "      <td>0.0</td>\n",
              "      <td>0.0</td>\n",
              "      <td>360.0</td>\n",
              "      <td>1.0</td>\n",
              "      <td>0.0</td>\n",
              "      <td>14.0</td>\n",
              "      <td>33.0</td>\n",
              "      <td>1.0</td>\n",
              "      <td>3.0</td>\n",
              "      <td>5.0</td>\n",
              "      <td>0.0</td>\n",
              "      <td>0.0</td>\n",
              "      <td>2.0</td>\n",
              "      <td>0.0</td>\n",
              "      <td>0.0</td>\n",
              "      <td>1.0</td>\n",
              "      <td>80999.0</td>\n",
              "      <td>4700.0</td>\n",
              "      <td>71499.0</td>\n",
              "      <td>N</td>\n",
              "      <td>0.0</td>\n",
              "      <td>N</td>\n",
              "      <td>0.925487</td>\n",
              "    </tr>\n",
              "    <tr>\n",
              "      <th>2</th>\n",
              "      <td>10000.0</td>\n",
              "      <td>60 months</td>\n",
              "      <td>2</td>\n",
              "      <td>MORTGAGE</td>\n",
              "      <td>55000.0</td>\n",
              "      <td>1</td>\n",
              "      <td>credit_card</td>\n",
              "      <td>8</td>\n",
              "      <td>35.70</td>\n",
              "      <td>0.0</td>\n",
              "      <td>2001.0</td>\n",
              "      <td>0.0</td>\n",
              "      <td>-1.0</td>\n",
              "      <td>28.0</td>\n",
              "      <td>0.0</td>\n",
              "      <td>5558.20</td>\n",
              "      <td>2871.05</td>\n",
              "      <td>2018.0</td>\n",
              "      <td>520.0</td>\n",
              "      <td>0.0</td>\n",
              "      <td>-1.0</td>\n",
              "      <td>Individual</td>\n",
              "      <td>0.0</td>\n",
              "      <td>0.0</td>\n",
              "      <td>288087.0</td>\n",
              "      <td>2.0</td>\n",
              "      <td>2.0</td>\n",
              "      <td>1.0</td>\n",
              "      <td>6742.0</td>\n",
              "      <td>85.0</td>\n",
              "      <td>49500.0</td>\n",
              "      <td>0.0</td>\n",
              "      <td>3.0</td>\n",
              "      <td>0.0</td>\n",
              "      <td>0.0</td>\n",
              "      <td>176.0</td>\n",
              "      <td>7.0</td>\n",
              "      <td>6.0</td>\n",
              "      <td>6.0</td>\n",
              "      <td>-1.0</td>\n",
              "      <td>0.0</td>\n",
              "      <td>3.0</td>\n",
              "      <td>11.0</td>\n",
              "      <td>0.0</td>\n",
              "      <td>0.0</td>\n",
              "      <td>4.0</td>\n",
              "      <td>100.0</td>\n",
              "      <td>0.0</td>\n",
              "      <td>0.0</td>\n",
              "      <td>302401.0</td>\n",
              "      <td>11000.0</td>\n",
              "      <td>34953.0</td>\n",
              "      <td>N</td>\n",
              "      <td>0.0</td>\n",
              "      <td>N</td>\n",
              "      <td>1.000000</td>\n",
              "    </tr>\n",
              "    <tr>\n",
              "      <th>3</th>\n",
              "      <td>35000.0</td>\n",
              "      <td>60 months</td>\n",
              "      <td>7</td>\n",
              "      <td>MORTGAGE</td>\n",
              "      <td>106000.0</td>\n",
              "      <td>1</td>\n",
              "      <td>debt_consolidation</td>\n",
              "      <td>3</td>\n",
              "      <td>17.36</td>\n",
              "      <td>0.0</td>\n",
              "      <td>2002.0</td>\n",
              "      <td>0.0</td>\n",
              "      <td>-1.0</td>\n",
              "      <td>27.0</td>\n",
              "      <td>0.0</td>\n",
              "      <td>22968.61</td>\n",
              "      <td>7086.13</td>\n",
              "      <td>2019.0</td>\n",
              "      <td>500.0</td>\n",
              "      <td>0.0</td>\n",
              "      <td>-1.0</td>\n",
              "      <td>Individual</td>\n",
              "      <td>0.0</td>\n",
              "      <td>0.0</td>\n",
              "      <td>299890.0</td>\n",
              "      <td>3.0</td>\n",
              "      <td>0.0</td>\n",
              "      <td>0.0</td>\n",
              "      <td>9701.0</td>\n",
              "      <td>60.0</td>\n",
              "      <td>54200.0</td>\n",
              "      <td>0.0</td>\n",
              "      <td>4.0</td>\n",
              "      <td>0.0</td>\n",
              "      <td>0.0</td>\n",
              "      <td>164.0</td>\n",
              "      <td>38.0</td>\n",
              "      <td>4.0</td>\n",
              "      <td>-1.0</td>\n",
              "      <td>-1.0</td>\n",
              "      <td>0.0</td>\n",
              "      <td>3.0</td>\n",
              "      <td>4.0</td>\n",
              "      <td>0.0</td>\n",
              "      <td>0.0</td>\n",
              "      <td>0.0</td>\n",
              "      <td>0.0</td>\n",
              "      <td>0.0</td>\n",
              "      <td>0.0</td>\n",
              "      <td>366974.0</td>\n",
              "      <td>39200.0</td>\n",
              "      <td>36981.0</td>\n",
              "      <td>N</td>\n",
              "      <td>0.0</td>\n",
              "      <td>N</td>\n",
              "      <td>0.815285</td>\n",
              "    </tr>\n",
              "    <tr>\n",
              "      <th>4</th>\n",
              "      <td>14000.0</td>\n",
              "      <td>60 months</td>\n",
              "      <td>2</td>\n",
              "      <td>MORTGAGE</td>\n",
              "      <td>60000.0</td>\n",
              "      <td>1</td>\n",
              "      <td>debt_consolidation</td>\n",
              "      <td>8</td>\n",
              "      <td>24.29</td>\n",
              "      <td>0.0</td>\n",
              "      <td>2009.0</td>\n",
              "      <td>0.0</td>\n",
              "      <td>-1.0</td>\n",
              "      <td>24.0</td>\n",
              "      <td>0.0</td>\n",
              "      <td>7458.90</td>\n",
              "      <td>2770.73</td>\n",
              "      <td>2017.0</td>\n",
              "      <td>510.0</td>\n",
              "      <td>0.0</td>\n",
              "      <td>-1.0</td>\n",
              "      <td>Individual</td>\n",
              "      <td>0.0</td>\n",
              "      <td>0.0</td>\n",
              "      <td>70789.0</td>\n",
              "      <td>2.0</td>\n",
              "      <td>2.0</td>\n",
              "      <td>1.0</td>\n",
              "      <td>4952.0</td>\n",
              "      <td>89.0</td>\n",
              "      <td>17200.0</td>\n",
              "      <td>1.0</td>\n",
              "      <td>0.0</td>\n",
              "      <td>0.0</td>\n",
              "      <td>0.0</td>\n",
              "      <td>71.0</td>\n",
              "      <td>23.0</td>\n",
              "      <td>0.0</td>\n",
              "      <td>0.0</td>\n",
              "      <td>-1.0</td>\n",
              "      <td>0.0</td>\n",
              "      <td>7.0</td>\n",
              "      <td>9.0</td>\n",
              "      <td>0.0</td>\n",
              "      <td>0.0</td>\n",
              "      <td>1.0</td>\n",
              "      <td>87.5</td>\n",
              "      <td>0.0</td>\n",
              "      <td>0.0</td>\n",
              "      <td>83083.0</td>\n",
              "      <td>15100.0</td>\n",
              "      <td>65883.0</td>\n",
              "      <td>N</td>\n",
              "      <td>0.0</td>\n",
              "      <td>N</td>\n",
              "      <td>0.885144</td>\n",
              "    </tr>\n",
              "  </tbody>\n",
              "</table>\n",
              "</div>"
            ],
            "text/plain": [
              "   loan_amnt        term  ...  debt_settlement_flag       LGD\n",
              "0    18000.0   60 months  ...                     N  0.908563\n",
              "1    16000.0   36 months  ...                     N  0.925487\n",
              "2    10000.0   60 months  ...                     N  1.000000\n",
              "3    35000.0   60 months  ...                     N  0.815285\n",
              "4    14000.0   60 months  ...                     N  0.885144\n",
              "\n",
              "[5 rows x 56 columns]"
            ]
          },
          "metadata": {
            "tags": []
          },
          "execution_count": 178
        }
      ]
    },
    {
      "cell_type": "markdown",
      "metadata": {
        "id": "OXZ60q4KAAXd",
        "colab_type": "text"
      },
      "source": [
        "Since we already know LGD only works with \"defaulted\" loans, so we can drop 'loan_status' indicator"
      ]
    },
    {
      "cell_type": "code",
      "metadata": {
        "id": "xX8oCEq3ALrf",
        "colab_type": "code",
        "colab": {}
      },
      "source": [
        "LGD_data = LGD_data.drop(['loan_status'], axis = 1)"
      ],
      "execution_count": null,
      "outputs": []
    },
    {
      "cell_type": "code",
      "metadata": {
        "id": "spScwDevRpnu",
        "colab_type": "code",
        "colab": {}
      },
      "source": [
        "import numpy as np\n",
        "import matplotlib.pyplot as plt\n",
        "import seaborn as sns"
      ],
      "execution_count": null,
      "outputs": []
    },
    {
      "cell_type": "code",
      "metadata": {
        "id": "PFcp_LaBMxQt",
        "colab_type": "code",
        "colab": {
          "base_uri": "https://localhost:8080/",
          "height": 34
        },
        "outputId": "ac84b346-1d68-4238-9c40-b535d195dba1"
      },
      "source": [
        "LGD_data.shape"
      ],
      "execution_count": null,
      "outputs": [
        {
          "output_type": "execute_result",
          "data": {
            "text/plain": [
              "(150684, 55)"
            ]
          },
          "metadata": {
            "tags": []
          },
          "execution_count": 181
        }
      ]
    },
    {
      "cell_type": "markdown",
      "metadata": {
        "id": "1E0t9OxYPFgG",
        "colab_type": "text"
      },
      "source": [
        "Since prime driver of LGD in the this Loan Club is credit worthiness, salary,  time at job, EAD, and geographic information.\n",
        "\n",
        "\n",
        "The credit worthiness variable: we will use credit score card's variable.\n",
        "\n",
        "salary: annual income\n",
        "\n",
        "time at job: employ length \n",
        "\n",
        "Partial Information fo EAD: total payment and debt settlement flag \n",
        "\n",
        "geographic information: first letter of zip code"
      ]
    },
    {
      "cell_type": "code",
      "metadata": {
        "id": "BlMXlNYpJ-h2",
        "colab_type": "code",
        "colab": {}
      },
      "source": [
        "LGD_Variables = ['last_fico_range_low',\n",
        " 'last_credit_pull_d',\n",
        " 'total_pymnt',\n",
        " 'all_util',\n",
        " 'open_il_24m',\n",
        " 'max_bal_bc',\n",
        " 'open_act_il',\n",
        " 'total_cu_tl',\n",
        " 'LGD',\n",
        " 'emp_length',\n",
        " 'home_ownership',\n",
        " 'zip_code',\n",
        " 'annual_inc']"
      ],
      "execution_count": null,
      "outputs": []
    },
    {
      "cell_type": "code",
      "metadata": {
        "id": "LxtMXh8rMbEt",
        "colab_type": "code",
        "colab": {}
      },
      "source": [
        "LGD_data = LGD_data[LGD_Variables]"
      ],
      "execution_count": null,
      "outputs": []
    },
    {
      "cell_type": "code",
      "metadata": {
        "id": "UuBq5ASQQ9ra",
        "colab_type": "code",
        "colab": {
          "base_uri": "https://localhost:8080/",
          "height": 68
        },
        "outputId": "a92aec90-0ac4-479c-b2e4-cb24f81e0e3d"
      },
      "source": [
        "object_columns_df = LGD_data.select_dtypes(include=['object'])\n",
        "print(object_columns_df.iloc[0])"
      ],
      "execution_count": null,
      "outputs": [
        {
          "output_type": "stream",
          "text": [
            "debt_settlement_flag       N\n",
            "home_ownership          RENT\n",
            "Name: 0, dtype: object\n"
          ],
          "name": "stdout"
        }
      ]
    },
    {
      "cell_type": "code",
      "metadata": {
        "id": "fKeP1jAFSY4H",
        "colab_type": "code",
        "colab": {}
      },
      "source": [
        "LGD_data = pd.get_dummies(LGD_data)"
      ],
      "execution_count": null,
      "outputs": []
    },
    {
      "cell_type": "code",
      "metadata": {
        "id": "GcbNXXMbNMO-",
        "colab_type": "code",
        "colab": {
          "base_uri": "https://localhost:8080/",
          "height": 323
        },
        "outputId": "53fa66f6-9a13-4509-b6b4-60b16cbfb019"
      },
      "source": [
        "LGD_data.isnull().sum()"
      ],
      "execution_count": null,
      "outputs": [
        {
          "output_type": "execute_result",
          "data": {
            "text/plain": [
              "last_fico_range_low        0\n",
              "last_credit_pull_d         0\n",
              "total_pymnt                0\n",
              "all_util                   0\n",
              "open_il_24m                0\n",
              "max_bal_bc                 0\n",
              "open_act_il                0\n",
              "total_cu_tl                0\n",
              "LGD                        0\n",
              "emp_length                 0\n",
              "zip_code                   0\n",
              "annual_inc                 0\n",
              "debt_settlement_flag_N     0\n",
              "debt_settlement_flag_Y     0\n",
              "home_ownership_MORTGAGE    0\n",
              "home_ownership_OWN         0\n",
              "home_ownership_RENT        0\n",
              "dtype: int64"
            ]
          },
          "metadata": {
            "tags": []
          },
          "execution_count": 132
        }
      ]
    },
    {
      "cell_type": "markdown",
      "metadata": {
        "id": "XIV2ASokgIOz",
        "colab_type": "text"
      },
      "source": [
        "Now we calibrate optimal parameter for random forest "
      ]
    },
    {
      "cell_type": "code",
      "metadata": {
        "id": "SrF5VvT6NtEQ",
        "colab_type": "code",
        "colab": {
          "base_uri": "https://localhost:8080/",
          "height": 34
        },
        "outputId": "61e12b44-fbb7-4e08-d423-8dc380f70bd6"
      },
      "source": [
        "LGD_data.shape"
      ],
      "execution_count": null,
      "outputs": [
        {
          "output_type": "execute_result",
          "data": {
            "text/plain": [
              "(150684, 17)"
            ]
          },
          "metadata": {
            "tags": []
          },
          "execution_count": 133
        }
      ]
    },
    {
      "cell_type": "markdown",
      "metadata": {
        "id": "XWf241CZage7",
        "colab_type": "text"
      },
      "source": [
        "## Build Random Forest Model for LGD"
      ]
    },
    {
      "cell_type": "markdown",
      "metadata": {
        "id": "EpD8_SOW5wXP",
        "colab_type": "text"
      },
      "source": [
        "### Cross Validation to choose the optimal paramters for Random Forest"
      ]
    },
    {
      "cell_type": "code",
      "metadata": {
        "id": "yxKzyNoDibZ7",
        "colab_type": "code",
        "colab": {
          "base_uri": "https://localhost:8080/",
          "height": 275
        },
        "outputId": "aaec5c3b-6865-4787-ffae-ed9f0a5fa306"
      },
      "source": [
        "import pandas as pd\n",
        "from sklearn.ensemble import RandomForestRegressor\n",
        "from sklearn.feature_selection import SelectFromModel\n",
        "from sklearn.model_selection import train_test_split\n",
        "from sklearn.model_selection import RandomizedSearchCV\n",
        "!pip install scorecardpy\n",
        "import scorecardpy as sc\n"
      ],
      "execution_count": null,
      "outputs": [
        {
          "output_type": "stream",
          "text": [
            "Requirement already satisfied: scorecardpy in /usr/local/lib/python3.6/dist-packages (0.1.9.1.1)\n",
            "Requirement already satisfied: matplotlib in /usr/local/lib/python3.6/dist-packages (from scorecardpy) (3.1.1)\n",
            "Requirement already satisfied: scikit-learn>=0.19.1 in /usr/local/lib/python3.6/dist-packages (from scorecardpy) (0.21.3)\n",
            "Requirement already satisfied: numpy in /usr/local/lib/python3.6/dist-packages (from scorecardpy) (1.17.4)\n",
            "Requirement already satisfied: pandas>=0.25.0 in /usr/local/lib/python3.6/dist-packages (from scorecardpy) (0.25.3)\n",
            "Requirement already satisfied: pyparsing!=2.0.4,!=2.1.2,!=2.1.6,>=2.0.1 in /usr/local/lib/python3.6/dist-packages (from matplotlib->scorecardpy) (2.4.5)\n",
            "Requirement already satisfied: kiwisolver>=1.0.1 in /usr/local/lib/python3.6/dist-packages (from matplotlib->scorecardpy) (1.1.0)\n",
            "Requirement already satisfied: cycler>=0.10 in /usr/local/lib/python3.6/dist-packages (from matplotlib->scorecardpy) (0.10.0)\n",
            "Requirement already satisfied: python-dateutil>=2.1 in /usr/local/lib/python3.6/dist-packages (from matplotlib->scorecardpy) (2.6.1)\n",
            "Requirement already satisfied: joblib>=0.11 in /usr/local/lib/python3.6/dist-packages (from scikit-learn>=0.19.1->scorecardpy) (0.14.0)\n",
            "Requirement already satisfied: scipy>=0.17.0 in /usr/local/lib/python3.6/dist-packages (from scikit-learn>=0.19.1->scorecardpy) (1.3.2)\n",
            "Requirement already satisfied: pytz>=2017.2 in /usr/local/lib/python3.6/dist-packages (from pandas>=0.25.0->scorecardpy) (2018.9)\n",
            "Requirement already satisfied: setuptools in /usr/local/lib/python3.6/dist-packages (from kiwisolver>=1.0.1->matplotlib->scorecardpy) (41.4.0)\n",
            "Requirement already satisfied: six in /usr/local/lib/python3.6/dist-packages (from cycler>=0.10->matplotlib->scorecardpy) (1.12.0)\n"
          ],
          "name": "stdout"
        }
      ]
    },
    {
      "cell_type": "code",
      "metadata": {
        "id": "Q5n9LITMiwHY",
        "colab_type": "code",
        "colab": {}
      },
      "source": [
        "LGDtrain, LGDtest = sc.split_df(LGD_data, ratio = 0.66, seed = 251121253).values()"
      ],
      "execution_count": null,
      "outputs": []
    },
    {
      "cell_type": "code",
      "metadata": {
        "id": "bwf0Br7FOEiV",
        "colab_type": "code",
        "colab": {}
      },
      "source": [
        "n_estimators = [int(x) for x in np.linspace(start = 500, stop = 10000, num = 10)]\n",
        "# Number of features to consider at every split\n",
        "max_features = ['auto', 'sqrt']\n",
        "# Maximum number of levels in tree\n",
        "max_depth = [int(x) for x in np.linspace(10, 500, num = 10)]\n",
        "max_depth.append(None)\n",
        "# Minimum number of samples required to split a node\n",
        "min_samples_split = [2, 5, 10]\n",
        "# Minimum number of samples required at each leaf node\n",
        "min_samples_leaf = [1, 2, 4, 8, 16]\n",
        "# Method of selecting samples for training each tree\n",
        "bootstrap = [True, False]\n",
        "# Create the random grid\n",
        "random_grid = {'n_estimators': n_estimators,\n",
        "               'max_features': max_features,\n",
        "               'max_depth': max_depth,\n",
        "               'min_samples_split': min_samples_split,\n",
        "               'min_samples_leaf': min_samples_leaf,\n",
        "               'bootstrap': bootstrap }"
      ],
      "execution_count": null,
      "outputs": []
    },
    {
      "cell_type": "code",
      "metadata": {
        "id": "mQmQKEbeVNgh",
        "colab_type": "code",
        "colab": {}
      },
      "source": [
        "rf = RandomForestRegressor()"
      ],
      "execution_count": null,
      "outputs": []
    },
    {
      "cell_type": "code",
      "metadata": {
        "id": "KuxGruQdd5Bb",
        "colab_type": "code",
        "colab": {}
      },
      "source": [
        "LGD_random = RandomizedSearchCV(estimator = rf, \n",
        "                                param_distributions = random_grid, \n",
        "                                n_iter = 10, \n",
        "                                cv = 10, verbose=1, random_state=251121253\n",
        "                                , n_jobs = -1)"
      ],
      "execution_count": null,
      "outputs": []
    },
    {
      "cell_type": "code",
      "metadata": {
        "id": "PYmLGvb6OsLj",
        "colab_type": "code",
        "colab": {}
      },
      "source": [
        "sample = LGDtrain.sample(frac = 0.01)"
      ],
      "execution_count": null,
      "outputs": []
    },
    {
      "cell_type": "code",
      "metadata": {
        "id": "zPG2dPOjOMA_",
        "colab_type": "code",
        "colab": {
          "base_uri": "https://localhost:8080/",
          "height": 615
        },
        "outputId": "41ab1a4a-2bd5-4273-e4fa-37742914c9e1"
      },
      "source": [
        "LGD_random.fit((sample.iloc[:,sample.columns != 'LGD']), sample['LGD'])"
      ],
      "execution_count": null,
      "outputs": [
        {
          "output_type": "stream",
          "text": [
            "Fitting 10 folds for each of 10 candidates, totalling 100 fits\n"
          ],
          "name": "stdout"
        },
        {
          "output_type": "stream",
          "text": [
            "[Parallel(n_jobs=-1)]: Using backend LokyBackend with 2 concurrent workers.\n",
            "/usr/local/lib/python3.6/dist-packages/joblib/externals/loky/process_executor.py:706: UserWarning: A worker stopped while some jobs were given to the executor. This can be caused by a too short worker timeout or by a memory leak.\n",
            "  \"timeout or by a memory leak.\", UserWarning\n",
            "[Parallel(n_jobs=-1)]: Done  46 tasks      | elapsed:  9.9min\n",
            "[Parallel(n_jobs=-1)]: Done 100 out of 100 | elapsed: 15.7min finished\n",
            "/usr/local/lib/python3.6/dist-packages/sklearn/model_selection/_search.py:814: DeprecationWarning: The default of the `iid` parameter will change from True to False in version 0.22 and will be removed in 0.24. This will change numeric results when test-set sizes are unequal.\n",
            "  DeprecationWarning)\n"
          ],
          "name": "stderr"
        },
        {
          "output_type": "execute_result",
          "data": {
            "text/plain": [
              "RandomizedSearchCV(cv=10, error_score='raise-deprecating',\n",
              "                   estimator=RandomForestRegressor(bootstrap=True,\n",
              "                                                   criterion='mse',\n",
              "                                                   max_depth=None,\n",
              "                                                   max_features='auto',\n",
              "                                                   max_leaf_nodes=None,\n",
              "                                                   min_impurity_decrease=0.0,\n",
              "                                                   min_impurity_split=None,\n",
              "                                                   min_samples_leaf=1,\n",
              "                                                   min_samples_split=2,\n",
              "                                                   min_weight_fraction_leaf=0.0,\n",
              "                                                   n_estimators='warn',\n",
              "                                                   n_jobs=None, oob_score=False,\n",
              "                                                   random_st...\n",
              "                   param_distributions={'bootstrap': [True, False],\n",
              "                                        'max_depth': [10, 64, 118, 173, 227,\n",
              "                                                      282, 336, 391, 445, 500,\n",
              "                                                      None],\n",
              "                                        'max_features': ['auto', 'sqrt'],\n",
              "                                        'min_samples_leaf': [1, 2, 4, 8, 16],\n",
              "                                        'min_samples_split': [2, 5, 10],\n",
              "                                        'n_estimators': [500, 1555, 2611, 3666,\n",
              "                                                         4722, 5777, 6833, 7888,\n",
              "                                                         8944, 10000]},\n",
              "                   pre_dispatch='2*n_jobs', random_state=251121253, refit=True,\n",
              "                   return_train_score=False, scoring=None, verbose=1)"
            ]
          },
          "metadata": {
            "tags": []
          },
          "execution_count": 28
        }
      ]
    },
    {
      "cell_type": "code",
      "metadata": {
        "id": "SgfYpnpmTk7T",
        "colab_type": "code",
        "colab": {
          "base_uri": "https://localhost:8080/",
          "height": 119
        },
        "outputId": "6c31581d-d96c-4032-dd3c-1345e3f9f32d"
      },
      "source": [
        "LGD_random.best_params_"
      ],
      "execution_count": null,
      "outputs": [
        {
          "output_type": "execute_result",
          "data": {
            "text/plain": [
              "{'bootstrap': False,\n",
              " 'max_depth': 500,\n",
              " 'max_features': 'sqrt',\n",
              " 'min_samples_leaf': 8,\n",
              " 'min_samples_split': 2,\n",
              " 'n_estimators': 500}"
            ]
          },
          "metadata": {
            "tags": []
          },
          "execution_count": 29
        }
      ]
    },
    {
      "cell_type": "code",
      "metadata": {
        "id": "NgZhBFuPWsUT",
        "colab_type": "code",
        "colab": {}
      },
      "source": [
        "from sklearn.model_selection import GridSearchCV\n",
        "\n",
        "# Create the parameter grid based on the results of random search \n",
        "param_grid = {\n",
        "    'bootstrap': [False],\n",
        "    'max_depth': [400, 500, 600],\n",
        "    'max_features': ['auto','sqrt'],\n",
        "    'min_samples_leaf': [4, 8, 16],\n",
        "    'min_samples_split': [2, 4, 8],\n",
        "    'n_estimators': [500, 1000, 2000]\n",
        "}\n",
        "# Create a based model\n",
        "rf = RandomForestRegressor()\n",
        "# Instantiate the grid search model\n",
        "grid_search = GridSearchCV(estimator = rf, param_grid = param_grid, \n",
        "                          cv = 10, n_jobs = -1, verbose = 1)"
      ],
      "execution_count": null,
      "outputs": []
    },
    {
      "cell_type": "code",
      "metadata": {
        "id": "PLagcxiIYZZd",
        "colab_type": "code",
        "colab": {
          "base_uri": "https://localhost:8080/",
          "height": 564
        },
        "outputId": "c81a6fc8-654d-41f6-ccb5-416aa7279d03"
      },
      "source": [
        "grid_search.fit((sample.iloc[:,sample.columns != 'LGD']), sample['LGD'])"
      ],
      "execution_count": null,
      "outputs": [
        {
          "output_type": "stream",
          "text": [
            "Fitting 10 folds for each of 162 candidates, totalling 1620 fits\n"
          ],
          "name": "stdout"
        },
        {
          "output_type": "stream",
          "text": [
            "[Parallel(n_jobs=-1)]: Using backend LokyBackend with 2 concurrent workers.\n",
            "[Parallel(n_jobs=-1)]: Done  46 tasks      | elapsed:  4.4min\n",
            "[Parallel(n_jobs=-1)]: Done 196 tasks      | elapsed: 18.0min\n",
            "[Parallel(n_jobs=-1)]: Done 446 tasks      | elapsed: 27.6min\n",
            "[Parallel(n_jobs=-1)]: Done 796 tasks      | elapsed: 51.5min\n",
            "[Parallel(n_jobs=-1)]: Done 1246 tasks      | elapsed: 74.2min\n",
            "[Parallel(n_jobs=-1)]: Done 1620 out of 1620 | elapsed: 88.2min finished\n",
            "/usr/local/lib/python3.6/dist-packages/sklearn/model_selection/_search.py:814: DeprecationWarning: The default of the `iid` parameter will change from True to False in version 0.22 and will be removed in 0.24. This will change numeric results when test-set sizes are unequal.\n",
            "  DeprecationWarning)\n"
          ],
          "name": "stderr"
        },
        {
          "output_type": "execute_result",
          "data": {
            "text/plain": [
              "GridSearchCV(cv=10, error_score='raise-deprecating',\n",
              "             estimator=RandomForestRegressor(bootstrap=True, criterion='mse',\n",
              "                                             max_depth=None,\n",
              "                                             max_features='auto',\n",
              "                                             max_leaf_nodes=None,\n",
              "                                             min_impurity_decrease=0.0,\n",
              "                                             min_impurity_split=None,\n",
              "                                             min_samples_leaf=1,\n",
              "                                             min_samples_split=2,\n",
              "                                             min_weight_fraction_leaf=0.0,\n",
              "                                             n_estimators='warn', n_jobs=None,\n",
              "                                             oob_score=False, random_state=None,\n",
              "                                             verbose=0, warm_start=False),\n",
              "             iid='warn', n_jobs=-1,\n",
              "             param_grid={'bootstrap': [False], 'max_depth': [400, 500, 600],\n",
              "                         'max_features': ['auto', 'sqrt'],\n",
              "                         'min_samples_leaf': [4, 8, 16],\n",
              "                         'min_samples_split': [2, 4, 8],\n",
              "                         'n_estimators': [500, 1000, 2000]},\n",
              "             pre_dispatch='2*n_jobs', refit=True, return_train_score=False,\n",
              "             scoring=None, verbose=1)"
            ]
          },
          "metadata": {
            "tags": []
          },
          "execution_count": 32
        }
      ]
    },
    {
      "cell_type": "code",
      "metadata": {
        "id": "KH7HueFbxPyw",
        "colab_type": "code",
        "colab": {
          "base_uri": "https://localhost:8080/",
          "height": 119
        },
        "outputId": "5e7b783b-79c8-4f89-8764-ed1d6984d68b"
      },
      "source": [
        "grid_search.best_params_"
      ],
      "execution_count": null,
      "outputs": [
        {
          "output_type": "execute_result",
          "data": {
            "text/plain": [
              "{'bootstrap': False,\n",
              " 'max_depth': 600,\n",
              " 'max_features': 'sqrt',\n",
              " 'min_samples_leaf': 8,\n",
              " 'min_samples_split': 4,\n",
              " 'n_estimators': 500}"
            ]
          },
          "metadata": {
            "tags": []
          },
          "execution_count": 33
        }
      ]
    },
    {
      "cell_type": "markdown",
      "metadata": {
        "id": "mHWi-zBHxmAw",
        "colab_type": "text"
      },
      "source": [
        "From the randomCV and Grid-search: we have the following conclusion about the optimal hyperparameters: \n",
        "\n",
        "{'bootstrap': False, \\\\\n",
        " 'max_depth': 600, (may be the more the better) \\\\\n",
        " 'max_features': 'sqrt', \\\\\n",
        " 'min_samples_leaf': 8, \\\\\n",
        " 'min_samples_split': 4, \\\\\n",
        " 'n_estimators': 500 (may be the more the better}  \\\\"
      ]
    },
    {
      "cell_type": "markdown",
      "metadata": {
        "id": "Ssg88M-WyW_M",
        "colab_type": "text"
      },
      "source": [
        "### Build LGD Model using RandomForest Regressor "
      ]
    },
    {
      "cell_type": "markdown",
      "metadata": {
        "id": "uHFhexe7XqZd",
        "colab_type": "text"
      },
      "source": [
        "We apply the optimal parameters, since sample is 1% of the training data, we multiply the number of estimator by 10."
      ]
    },
    {
      "cell_type": "code",
      "metadata": {
        "id": "iGTE9XwDS8Lb",
        "colab_type": "code",
        "colab": {}
      },
      "source": [
        "LGD_rf = RandomForestRegressor(n_estimators=5000, # Number of trees to train\n",
        "                       criterion='mse', # How to train the trees. Also supports entropy.\n",
        "                       max_depth= 600, # Max depth of the trees. Not necessary to change.\n",
        "                       min_samples_split= 4, # Minimum samples to create a split.\n",
        "                       min_samples_leaf= 8, # Minimum samples in a leaf. Accepts fractions for %. This is 0.1% of sample.\n",
        "                       min_weight_fraction_leaf= 0.0, # Same as above, but uses the class weights.\n",
        "                       max_features='sqrt', # Maximum number of features per split (not tree!) by default is sqrt(vars)\n",
        "                       max_leaf_nodes=None, # Maximum number of nodes.\n",
        "                       min_impurity_decrease=0.0001, # Minimum impurity decrease. This is 10^-3.\n",
        "                       bootstrap=False, # If sample with repetition. For large samples (>100.000) set to false.\n",
        "                       oob_score=False,  # If report accuracy with non-selected cases.\n",
        "                       n_jobs=2, # Parallel processing. Set to -1 for all cores. Watch your RAM!!\n",
        "                       random_state=251121253, # Seed\n",
        "                       verbose=1, # If to give info during training. Set to 0 for silent training.\n",
        "                       warm_start=False, # If train over previously trained tree.\n",
        "                                    )"
      ],
      "execution_count": null,
      "outputs": []
    },
    {
      "cell_type": "code",
      "metadata": {
        "id": "Dy7NFhuHWeke",
        "colab_type": "code",
        "colab": {
          "base_uri": "https://localhost:8080/",
          "height": 340
        },
        "outputId": "11a5809a-ff62-4dde-a95d-58ab3b1c86a3"
      },
      "source": [
        "LGD_rf.fit(LGDtrain.iloc[:,LGDtrain.columns != 'LGD'], LGDtrain['LGD'])"
      ],
      "execution_count": null,
      "outputs": [
        {
          "output_type": "stream",
          "text": [
            "[Parallel(n_jobs=2)]: Using backend ThreadingBackend with 2 concurrent workers.\n",
            "[Parallel(n_jobs=2)]: Done  46 tasks      | elapsed:    0.8s\n",
            "[Parallel(n_jobs=2)]: Done 196 tasks      | elapsed:    3.4s\n",
            "[Parallel(n_jobs=2)]: Done 446 tasks      | elapsed:    7.7s\n",
            "[Parallel(n_jobs=2)]: Done 796 tasks      | elapsed:   13.4s\n",
            "[Parallel(n_jobs=2)]: Done 1246 tasks      | elapsed:   20.8s\n",
            "[Parallel(n_jobs=2)]: Done 1796 tasks      | elapsed:   30.0s\n",
            "[Parallel(n_jobs=2)]: Done 2446 tasks      | elapsed:   41.0s\n",
            "[Parallel(n_jobs=2)]: Done 3196 tasks      | elapsed:   53.5s\n",
            "[Parallel(n_jobs=2)]: Done 4046 tasks      | elapsed:  1.1min\n",
            "[Parallel(n_jobs=2)]: Done 4996 tasks      | elapsed:  1.4min\n",
            "[Parallel(n_jobs=2)]: Done 5000 out of 5000 | elapsed:  1.4min finished\n"
          ],
          "name": "stderr"
        },
        {
          "output_type": "execute_result",
          "data": {
            "text/plain": [
              "RandomForestRegressor(bootstrap=False, criterion='mse', max_depth=600,\n",
              "                      max_features='sqrt', max_leaf_nodes=None,\n",
              "                      min_impurity_decrease=0.0001, min_impurity_split=None,\n",
              "                      min_samples_leaf=8, min_samples_split=4,\n",
              "                      min_weight_fraction_leaf=0.0, n_estimators=5000, n_jobs=2,\n",
              "                      oob_score=False, random_state=251121253, verbose=1,\n",
              "                      warm_start=False)"
            ]
          },
          "metadata": {
            "tags": []
          },
          "execution_count": 189
        }
      ]
    },
    {
      "cell_type": "code",
      "metadata": {
        "id": "Xvuv3pU-Na50",
        "colab_type": "code",
        "colab": {
          "base_uri": "https://localhost:8080/",
          "height": 68
        },
        "outputId": "7de2c8a3-32d6-4ee6-d014-3c2f4418802a"
      },
      "source": [
        "print(LGD_rf.feature_importances_)"
      ],
      "execution_count": null,
      "outputs": [
        {
          "output_type": "stream",
          "text": [
            "[0.01359394 0.20079044 0.01009458 0.01796233 0.04328685 0.03837624\n",
            " 0.03768913 0.03727804 0.         0.         0.         0.27278557\n",
            " 0.32814288 0.         0.         0.        ]\n"
          ],
          "name": "stdout"
        }
      ]
    },
    {
      "cell_type": "code",
      "metadata": {
        "id": "BJU_pBJkiEoe",
        "colab_type": "code",
        "colab": {
          "base_uri": "https://localhost:8080/",
          "height": 221
        },
        "outputId": "d5f30f4b-e75b-497b-ee33-ae9b0f14bd59"
      },
      "source": [
        "R2 = LGD_rf.score(LGDtest.iloc[:,LGDtest.columns != 'LGD'], LGDtest['LGD'])"
      ],
      "execution_count": null,
      "outputs": [
        {
          "output_type": "stream",
          "text": [
            "[Parallel(n_jobs=2)]: Using backend ThreadingBackend with 2 concurrent workers.\n",
            "[Parallel(n_jobs=2)]: Done  46 tasks      | elapsed:    0.0s\n",
            "[Parallel(n_jobs=2)]: Done 196 tasks      | elapsed:    0.1s\n",
            "[Parallel(n_jobs=2)]: Done 446 tasks      | elapsed:    0.2s\n",
            "[Parallel(n_jobs=2)]: Done 796 tasks      | elapsed:    0.4s\n",
            "[Parallel(n_jobs=2)]: Done 1246 tasks      | elapsed:    0.6s\n",
            "[Parallel(n_jobs=2)]: Done 1796 tasks      | elapsed:    0.9s\n",
            "[Parallel(n_jobs=2)]: Done 2446 tasks      | elapsed:    1.1s\n",
            "[Parallel(n_jobs=2)]: Done 3196 tasks      | elapsed:    1.5s\n",
            "[Parallel(n_jobs=2)]: Done 4046 tasks      | elapsed:    1.9s\n",
            "[Parallel(n_jobs=2)]: Done 4996 tasks      | elapsed:    2.3s\n",
            "[Parallel(n_jobs=2)]: Done 5000 out of 5000 | elapsed:    2.3s finished\n"
          ],
          "name": "stderr"
        }
      ]
    },
    {
      "cell_type": "code",
      "metadata": {
        "id": "iXV08rrYZpb8",
        "colab_type": "code",
        "colab": {
          "base_uri": "https://localhost:8080/",
          "height": 51
        },
        "outputId": "b051857d-186f-4106-9876-b3fb06c02e8b"
      },
      "source": [
        "n = LGDtest.shape[0] \n",
        "p = len(LGD_Variables)\n",
        "Adj_r2 = 1-(1-R2)*(n-1)/(n-p-1)\n",
        "print(R2)\n",
        "print(Adj_r2)"
      ],
      "execution_count": null,
      "outputs": [
        {
          "output_type": "stream",
          "text": [
            "0.2929827747483723\n",
            "0.29278951766778494\n"
          ],
          "name": "stdout"
        }
      ]
    },
    {
      "cell_type": "code",
      "metadata": {
        "id": "-UjEOVimXYqa",
        "colab_type": "code",
        "colab": {
          "base_uri": "https://localhost:8080/",
          "height": 221
        },
        "outputId": "a7092a3f-ba49-4165-c82a-eb2441a54f77"
      },
      "source": [
        "from sklearn.metrics import mean_squared_error \n",
        "mse = mean_squared_error(LGD_rf.predict(LGDtest.iloc[:,LGDtest.columns != 'LGD']), \n",
        "                         LGDtest['LGD'])"
      ],
      "execution_count": null,
      "outputs": [
        {
          "output_type": "stream",
          "text": [
            "[Parallel(n_jobs=2)]: Using backend ThreadingBackend with 2 concurrent workers.\n",
            "[Parallel(n_jobs=2)]: Done  46 tasks      | elapsed:    0.0s\n",
            "[Parallel(n_jobs=2)]: Done 196 tasks      | elapsed:    0.1s\n",
            "[Parallel(n_jobs=2)]: Done 446 tasks      | elapsed:    0.2s\n",
            "[Parallel(n_jobs=2)]: Done 796 tasks      | elapsed:    0.4s\n",
            "[Parallel(n_jobs=2)]: Done 1246 tasks      | elapsed:    0.6s\n",
            "[Parallel(n_jobs=2)]: Done 1796 tasks      | elapsed:    0.9s\n",
            "[Parallel(n_jobs=2)]: Done 2446 tasks      | elapsed:    1.1s\n",
            "[Parallel(n_jobs=2)]: Done 3196 tasks      | elapsed:    1.5s\n",
            "[Parallel(n_jobs=2)]: Done 4046 tasks      | elapsed:    1.9s\n",
            "[Parallel(n_jobs=2)]: Done 4996 tasks      | elapsed:    2.4s\n",
            "[Parallel(n_jobs=2)]: Done 5000 out of 5000 | elapsed:    2.4s finished\n"
          ],
          "name": "stderr"
        }
      ]
    },
    {
      "cell_type": "code",
      "metadata": {
        "id": "Oc80NXSFZ7JC",
        "colab_type": "code",
        "colab": {
          "base_uri": "https://localhost:8080/",
          "height": 34
        },
        "outputId": "4c18bb37-5663-4182-fe2a-cacd11a68b39"
      },
      "source": [
        "mse"
      ],
      "execution_count": null,
      "outputs": [
        {
          "output_type": "execute_result",
          "data": {
            "text/plain": [
              "0.008806893251565192"
            ]
          },
          "metadata": {
            "tags": []
          },
          "execution_count": 145
        }
      ]
    },
    {
      "cell_type": "markdown",
      "metadata": {
        "id": "DBzG7JqQeUju",
        "colab_type": "text"
      },
      "source": [
        "### Importance of parameters for Random Forest "
      ]
    },
    {
      "cell_type": "code",
      "metadata": {
        "id": "f_ITZOFyecfu",
        "colab_type": "code",
        "colab": {}
      },
      "source": [
        "import matplotlib.pyplot as plt\n",
        "import seaborn as sns\n",
        "%matplotlib inline"
      ],
      "execution_count": null,
      "outputs": []
    },
    {
      "cell_type": "code",
      "metadata": {
        "id": "Y-MIHi8YeaDc",
        "colab_type": "code",
        "colab": {
          "base_uri": "https://localhost:8080/",
          "height": 295
        },
        "outputId": "49b89dfa-7455-44fa-d654-e3b896f5c75e"
      },
      "source": [
        "plt.barh(LGDtest.iloc[:,LGDtest.columns != 'LGD'].columns, \\\n",
        "         LGD_rf.feature_importances_,\n",
        "        align='center', alpha=0.5)\n",
        "plt.yticks(LGDtest.iloc[:,LGDtest.columns != 'LGD'].columns)\n",
        "plt.xlabel('Importance')\n",
        "plt.title('LGD RandomForestRegressor Variable Importance')\n",
        "plt.show()"
      ],
      "execution_count": null,
      "outputs": [
        {
          "output_type": "display_data",
          "data": {
            "image/png": "[encoded data removed]",
            "text/plain": [
              "<Figure size 432x288 with 1 Axes>"
            ]
          },
          "metadata": {
            "tags": []
          }
        }
      ]
    },
    {
      "cell_type": "markdown",
      "metadata": {
        "id": "nrETmifvaNw7",
        "colab_type": "text"
      },
      "source": [
        "## Build XGBoosting Model for LGD"
      ]
    },
    {
      "cell_type": "markdown",
      "metadata": {
        "id": "-p8QLaiwav4R",
        "colab_type": "text"
      },
      "source": [
        "### Find the optimal parameter for the XG Boosting"
      ]
    },
    {
      "cell_type": "code",
      "metadata": {
        "id": "GI_bWWglDUNg",
        "colab_type": "code",
        "colab": {}
      },
      "source": [
        "from sklearn.ensemble import GradientBoostingRegressor\n",
        "from sklearn.model_selection import GridSearchCV\n",
        "\n",
        "# Create the parameter grid based on the results of random search \n",
        "param_grid2 = {\n",
        "    'learning_rate': [0.1, 0.01],\n",
        "    'n_estimators': [2000, 4000, 8000, 16000],\n",
        "    'min_samples_leaf': [1, 4, 8, 16],\n",
        "    'min_samples_split': [2, 4, 8],\n",
        "    'max_depth': [2,3], \n",
        "    'max_features': ['auto', 'sqrt'],\n",
        "}\n",
        "# Create a based model\n",
        "xg = GradientBoostingRegressor()\n",
        "# Instantiate the grid search model\n",
        "grid_search2 = GridSearchCV(estimator = xg, param_grid = param_grid2, \n",
        "                          cv = 3, n_jobs = -1, verbose = 1)\n"
      ],
      "execution_count": null,
      "outputs": []
    },
    {
      "cell_type": "code",
      "metadata": {
        "id": "6KGWznNqGN_b",
        "colab_type": "code",
        "colab": {
          "base_uri": "https://localhost:8080/",
          "height": 615
        },
        "outputId": "f6ac8715-c51d-45e7-d83c-6ee7b26bffd5"
      },
      "source": [
        "grid_search2.fit((sample.iloc[:,sample.columns != 'LGD']), sample['LGD'])"
      ],
      "execution_count": null,
      "outputs": [
        {
          "output_type": "stream",
          "text": [
            "Fitting 3 folds for each of 384 candidates, totalling 1152 fits\n"
          ],
          "name": "stdout"
        },
        {
          "output_type": "stream",
          "text": [
            "[Parallel(n_jobs=-1)]: Using backend LokyBackend with 4 concurrent workers.\n",
            "[Parallel(n_jobs=-1)]: Done  42 tasks      | elapsed:  1.2min\n",
            "[Parallel(n_jobs=-1)]: Done 192 tasks      | elapsed:  5.0min\n",
            "[Parallel(n_jobs=-1)]: Done 442 tasks      | elapsed: 10.6min\n",
            "[Parallel(n_jobs=-1)]: Done 792 tasks      | elapsed: 18.1min\n",
            "[Parallel(n_jobs=-1)]: Done 1152 out of 1152 | elapsed: 27.9min finished\n",
            "/usr/local/lib/python3.6/dist-packages/sklearn/model_selection/_search.py:814: DeprecationWarning: The default of the `iid` parameter will change from True to False in version 0.22 and will be removed in 0.24. This will change numeric results when test-set sizes are unequal.\n",
            "  DeprecationWarning)\n"
          ],
          "name": "stderr"
        },
        {
          "output_type": "execute_result",
          "data": {
            "text/plain": [
              "GridSearchCV(cv=3, error_score='raise-deprecating',\n",
              "             estimator=GradientBoostingRegressor(alpha=0.9,\n",
              "                                                 criterion='friedman_mse',\n",
              "                                                 init=None, learning_rate=0.1,\n",
              "                                                 loss='ls', max_depth=3,\n",
              "                                                 max_features=None,\n",
              "                                                 max_leaf_nodes=None,\n",
              "                                                 min_impurity_decrease=0.0,\n",
              "                                                 min_impurity_split=None,\n",
              "                                                 min_samples_leaf=1,\n",
              "                                                 min_samples_split=2,\n",
              "                                                 min_weight_fraction_leaf=0.0,\n",
              "                                                 n_estimators=100,\n",
              "                                                 n_iter...\n",
              "                                                 subsample=1.0, tol=0.0001,\n",
              "                                                 validation_fraction=0.1,\n",
              "                                                 verbose=0, warm_start=False),\n",
              "             iid='warn', n_jobs=-1,\n",
              "             param_grid={'learning_rate': [0.1, 0.01], 'max_depth': [2, 3],\n",
              "                         'max_features': ['auto', 'sqrt'],\n",
              "                         'min_samples_leaf': [1, 4, 8, 16],\n",
              "                         'min_samples_split': [2, 4, 8],\n",
              "                         'n_estimators': [2000, 4000, 8000, 16000]},\n",
              "             pre_dispatch='2*n_jobs', refit=True, return_train_score=False,\n",
              "             scoring=None, verbose=1)"
            ]
          },
          "metadata": {
            "tags": []
          },
          "execution_count": 80
        }
      ]
    },
    {
      "cell_type": "code",
      "metadata": {
        "id": "llIObbAjOMLV",
        "colab_type": "code",
        "colab": {
          "base_uri": "https://localhost:8080/",
          "height": 119
        },
        "outputId": "2fbdaed5-2325-4c62-cfd8-a8e718a89226"
      },
      "source": [
        "grid_search2.best_params_"
      ],
      "execution_count": null,
      "outputs": [
        {
          "output_type": "execute_result",
          "data": {
            "text/plain": [
              "{'learning_rate': 0.01,\n",
              " 'max_depth': 3,\n",
              " 'max_features': 'sqrt',\n",
              " 'min_samples_leaf': 8,\n",
              " 'min_samples_split': 4,\n",
              " 'n_estimators': 2000}"
            ]
          },
          "metadata": {
            "tags": []
          },
          "execution_count": 81
        }
      ]
    },
    {
      "cell_type": "markdown",
      "metadata": {
        "id": "TXU_YgHWbISm",
        "colab_type": "text"
      },
      "source": [
        "### Build LGD Model using XGBoosting Regressor"
      ]
    },
    {
      "cell_type": "code",
      "metadata": {
        "id": "3zIS8R4bfCSN",
        "colab_type": "code",
        "colab": {}
      },
      "source": [
        "from sklearn.ensemble import GradientBoostingRegressor\n",
        "LGD_xg = GradientBoostingRegressor(loss='ls', #least square \n",
        "                           learning_rate=0.01, # How much to shrink error in each subsequent training. \n",
        "                           n_estimators=2000, # Use optimal one found above\n",
        "                           subsample=0.632, # Subsampling to use. 63.2% of data is standard for XGBoost.\n",
        "                           criterion='friedman_mse', # Error to use for each split. \n",
        "                           min_samples_split=4, # Minimum samples for a split.\n",
        "                           min_samples_leaf=8, # Minimum samples in a leaf.\n",
        "                           min_weight_fraction_leaf=0.0, # Minimum fraction of samples in a leaf. Consider increasing if first few trees too good.\n",
        "                           max_depth=3, # Maximum depth. Keep it small!\n",
        "                           min_impurity_decrease=0.01, # Minimum impurity decrease. Might want to use 1% or so.\n",
        "                           init=None, # How to make first prediction (it needs one). Can give model that supports fit and predict.\n",
        "                           random_state=251121253, # Seed\n",
        "                           max_features='sqrt',\n",
        "                           verbose=1,  \n",
        "                           max_leaf_nodes=None,  \n",
        "                           warm_start=False,  \n",
        "                           presort='auto', # Whether to presort the data to speed up training.\n",
        "                           validation_fraction=0.3, \n",
        "                           n_iter_no_change=None, # Iters to stop training if no change occurs between one tree and the next.\n",
        "                           tol=0.0001 # Tolerance. Means maximum change of 10^-4\n",
        "                          )"
      ],
      "execution_count": null,
      "outputs": []
    },
    {
      "cell_type": "code",
      "metadata": {
        "id": "6xQQFXM9hzQf",
        "colab_type": "code",
        "colab": {
          "base_uri": "https://localhost:8080/",
          "height": 680
        },
        "outputId": "10c87928-4f26-427d-eb1e-cdbcda11adf5"
      },
      "source": [
        "LGD_xg.fit(LGDtrain.iloc[:,LGDtrain.columns != 'LGD'], \n",
        "              LGDtrain['LGD'])"
      ],
      "execution_count": null,
      "outputs": [
        {
          "output_type": "stream",
          "text": [
            "      Iter       Train Loss      OOB Improve   Remaining Time \n",
            "         1           0.0126           0.0000            1.15m\n",
            "         2           0.0127           0.0000            1.04m\n",
            "         3           0.0126           0.0001            1.02m\n",
            "         4           0.0127           0.0001            1.01m\n",
            "         5           0.0125           0.0001            1.02m\n",
            "         6           0.0124           0.0000            1.00m\n",
            "         7           0.0123           0.0001            1.01m\n",
            "         8           0.0122           0.0001            1.01m\n",
            "         9           0.0121           0.0001            1.00m\n",
            "        10           0.0121           0.0000           59.67s\n",
            "        20           0.0117           0.0000           58.26s\n",
            "        30           0.0112           0.0000           58.28s\n",
            "        40           0.0108           0.0000           57.54s\n",
            "        50           0.0107           0.0000           56.94s\n",
            "        60           0.0102           0.0000           56.45s\n",
            "        70           0.0101           0.0000           56.04s\n",
            "        80           0.0097           0.0000           55.79s\n",
            "        90           0.0096           0.0000           55.39s\n",
            "       100           0.0093           0.0000           55.21s\n",
            "       200           0.0083           0.0000           52.19s\n",
            "       300           0.0082           0.0000           49.21s\n",
            "       400           0.0079           0.0000           45.99s\n",
            "       500           0.0077           0.0000           42.89s\n",
            "       600           0.0076           0.0000           39.90s\n",
            "       700           0.0076           0.0000           36.96s\n",
            "       800           0.0077           0.0000           34.00s\n",
            "       900           0.0077           0.0000           31.15s\n",
            "      1000           0.0074          -0.0000           28.33s\n",
            "      2000           0.0071          -0.0000            0.00s\n"
          ],
          "name": "stdout"
        },
        {
          "output_type": "execute_result",
          "data": {
            "text/plain": [
              "GradientBoostingRegressor(alpha=0.9, criterion='friedman_mse', init=None,\n",
              "                          learning_rate=0.01, loss='ls', max_depth=3,\n",
              "                          max_features='sqrt', max_leaf_nodes=None,\n",
              "                          min_impurity_decrease=0.01, min_impurity_split=None,\n",
              "                          min_samples_leaf=8, min_samples_split=4,\n",
              "                          min_weight_fraction_leaf=0.0, n_estimators=2000,\n",
              "                          n_iter_no_change=None, presort='auto',\n",
              "                          random_state=251121253, subsample=0.632, tol=0.0001,\n",
              "                          validation_fraction=0.3, verbose=1, warm_start=False)"
            ]
          },
          "metadata": {
            "tags": []
          },
          "execution_count": 147
        }
      ]
    },
    {
      "cell_type": "code",
      "metadata": {
        "id": "9lHIdF-GjpuT",
        "colab_type": "code",
        "colab": {
          "base_uri": "https://localhost:8080/",
          "height": 85
        },
        "outputId": "d6775dd4-beac-4de4-c289-dde5a1b67ce7"
      },
      "source": [
        "print(LGD_xg.feature_importances_)"
      ],
      "execution_count": null,
      "outputs": [
        {
          "output_type": "stream",
          "text": [
            "[7.45137162e-02 2.76683342e-01 7.27902683e-02 2.60808052e-02\n",
            " 1.52975877e-02 1.75750630e-02 1.82910411e-02 1.72761651e-02\n",
            " 1.50421949e-03 2.86388223e-03 7.89348376e-03 2.24075782e-01\n",
            " 2.44147845e-01 4.08923176e-04 2.58443370e-04 3.39432819e-04]\n"
          ],
          "name": "stdout"
        }
      ]
    },
    {
      "cell_type": "code",
      "metadata": {
        "id": "8pBHGF_zecz-",
        "colab_type": "code",
        "colab": {}
      },
      "source": [
        "R2_xg = LGD_xg.score(LGDtest.iloc[:,LGDtest.columns != 'LGD'], LGDtest['LGD'])"
      ],
      "execution_count": null,
      "outputs": []
    },
    {
      "cell_type": "code",
      "metadata": {
        "id": "A1mxExy8c-CD",
        "colab_type": "code",
        "colab": {
          "base_uri": "https://localhost:8080/",
          "height": 51
        },
        "outputId": "3d883d88-8cf6-43a7-82c6-bd76421d36b1"
      },
      "source": [
        "n = LGDtest.shape[0] \n",
        "p = len(LGD_Variables)\n",
        "Adj_r2_xg = 1-(1-R2_xg)*(n-1)/(n-p-1)\n",
        "print(R2_xg)\n",
        "print(Adj_r2_xg)"
      ],
      "execution_count": null,
      "outputs": [
        {
          "output_type": "stream",
          "text": [
            "0.3971963273327419\n",
            "0.3970315561308726\n"
          ],
          "name": "stdout"
        }
      ]
    },
    {
      "cell_type": "code",
      "metadata": {
        "id": "90S6JLdRhDgF",
        "colab_type": "code",
        "colab": {
          "base_uri": "https://localhost:8080/",
          "height": 34
        },
        "outputId": "41a5579a-bf33-4256-e07d-c8a7350cd1f1"
      },
      "source": [
        "mse = mean_squared_error(LGD_xg.predict\\\n",
        "                         (LGDtest.iloc[:,LGDtest.columns != 'LGD']), \\\n",
        "                         LGDtest['LGD'])\n",
        "mse"
      ],
      "execution_count": null,
      "outputs": [
        {
          "output_type": "execute_result",
          "data": {
            "text/plain": [
              "0.0075087669822225"
            ]
          },
          "metadata": {
            "tags": []
          },
          "execution_count": 153
        }
      ]
    },
    {
      "cell_type": "markdown",
      "metadata": {
        "id": "VM2NqDuaiZBK",
        "colab_type": "text"
      },
      "source": [
        "### Importance of parameter for XG Boosting "
      ]
    },
    {
      "cell_type": "code",
      "metadata": {
        "id": "i2eBjzqRiiBN",
        "colab_type": "code",
        "colab": {
          "base_uri": "https://localhost:8080/",
          "height": 295
        },
        "outputId": "30d51f2e-db14-49be-962a-f780bf71ba8b"
      },
      "source": [
        "plt.barh(LGDtest.iloc[:,LGDtest.columns != 'LGD'].columns, \\\n",
        "         LGD_xg.feature_importances_,\n",
        "        align='center', alpha=0.5)\n",
        "plt.yticks(LGDtest.iloc[:,LGDtest.columns != 'LGD'].columns)\n",
        "plt.xlabel('Importance')\n",
        "plt.title('LGD XGBoosting Variable Importance')\n",
        "plt.show()"
      ],
      "execution_count": null,
      "outputs": [
        {
          "output_type": "display_data",
          "data": {
            "image/png": "[encoded data removed]",
            "text/plain": [
              "<Figure size 432x288 with 1 Axes>"
            ]
          },
          "metadata": {
            "tags": []
          }
        }
      ]
    },
    {
      "cell_type": "markdown",
      "metadata": {
        "id": "pGNfKpyN-vuZ",
        "colab_type": "text"
      },
      "source": [
        "## Apply the regressor on the non-defaulted Loans "
      ]
    },
    {
      "cell_type": "code",
      "metadata": {
        "id": "1K3XSS8PAEf-",
        "colab_type": "code",
        "colab": {
          "base_uri": "https://localhost:8080/",
          "height": 85
        },
        "outputId": "b3f79558-08c0-45af-fd97-07d0e1b806d9"
      },
      "source": [
        "## Download the pre saved, cleaned data\n",
        "!gdown https://drive.google.com/uc?id=142LOcmTXygAqkDhA7yuQwaiGIL_UUT1-"
      ],
      "execution_count": null,
      "outputs": [
        {
          "output_type": "stream",
          "text": [
            "Downloading...\n",
            "From: https://drive.google.com/uc?id=142LOcmTXygAqkDhA7yuQwaiGIL_UUT1-\n",
            "To: /content/credit_data2.csv\n",
            "129MB [00:00, 134MB/s]\n"
          ],
          "name": "stdout"
        }
      ]
    },
    {
      "cell_type": "code",
      "metadata": {
        "id": "X33tSLKgBckc",
        "colab_type": "code",
        "colab": {}
      },
      "source": [
        "Loan_data = pd.read_csv('credit_data2.csv')"
      ],
      "execution_count": null,
      "outputs": []
    },
    {
      "cell_type": "code",
      "metadata": {
        "id": "_dxepdTNBsAU",
        "colab_type": "code",
        "colab": {}
      },
      "source": [
        "## We just need the non-defaulted ones\n",
        "Undefaulted = Loan_data.loc[Loan_data['loan_status'] == 0]"
      ],
      "execution_count": null,
      "outputs": []
    },
    {
      "cell_type": "code",
      "metadata": {
        "id": "tRGKk60qE7bv",
        "colab_type": "code",
        "colab": {
          "base_uri": "https://localhost:8080/",
          "height": 34
        },
        "outputId": "dfe460b1-93b0-405e-da06-20bae9bad84b"
      },
      "source": [
        "Undefaulted.shape"
      ],
      "execution_count": null,
      "outputs": [
        {
          "output_type": "execute_result",
          "data": {
            "text/plain": [
              "(367591, 56)"
            ]
          },
          "metadata": {
            "tags": []
          },
          "execution_count": 156
        }
      ]
    },
    {
      "cell_type": "code",
      "metadata": {
        "id": "gMfiKhIXEEQ4",
        "colab_type": "code",
        "colab": {}
      },
      "source": [
        "## Leave only selected variables\n",
        "Undefaulted = Undefaulted[LGD_Variables]"
      ],
      "execution_count": null,
      "outputs": []
    },
    {
      "cell_type": "code",
      "metadata": {
        "id": "1wFE_pDwDaLf",
        "colab_type": "code",
        "colab": {}
      },
      "source": [
        "Undefaulted = pd.get_dummies(Undefaulted)"
      ],
      "execution_count": null,
      "outputs": []
    },
    {
      "cell_type": "code",
      "metadata": {
        "id": "jS5yNVLQFi7C",
        "colab_type": "code",
        "colab": {
          "base_uri": "https://localhost:8080/",
          "height": 34
        },
        "outputId": "7b3e300c-64a5-498e-c453-2b08d4d17996"
      },
      "source": [
        "np.any(np.isnan(Undefaulted))"
      ],
      "execution_count": null,
      "outputs": [
        {
          "output_type": "execute_result",
          "data": {
            "text/plain": [
              "True"
            ]
          },
          "metadata": {
            "tags": []
          },
          "execution_count": 163
        }
      ]
    },
    {
      "cell_type": "code",
      "metadata": {
        "id": "YPZQP8aXFqin",
        "colab_type": "code",
        "colab": {
          "base_uri": "https://localhost:8080/",
          "height": 323
        },
        "outputId": "eef9298c-43ee-4149-94b7-1cd2a3512e68"
      },
      "source": [
        "Undefaulted.isnull().sum()"
      ],
      "execution_count": null,
      "outputs": [
        {
          "output_type": "execute_result",
          "data": {
            "text/plain": [
              "last_fico_range_low        0\n",
              "last_credit_pull_d         0\n",
              "total_pymnt                0\n",
              "all_util                   0\n",
              "open_il_24m                0\n",
              "max_bal_bc                 0\n",
              "open_act_il                0\n",
              "total_cu_tl                0\n",
              "LGD                        1\n",
              "emp_length                 0\n",
              "zip_code                   0\n",
              "annual_inc                 0\n",
              "debt_settlement_flag_N     0\n",
              "debt_settlement_flag_Y     0\n",
              "home_ownership_MORTGAGE    0\n",
              "home_ownership_OWN         0\n",
              "home_ownership_RENT        0\n",
              "dtype: int64"
            ]
          },
          "metadata": {
            "tags": []
          },
          "execution_count": 164
        }
      ]
    },
    {
      "cell_type": "code",
      "metadata": {
        "id": "PTzoPCfrF3Qv",
        "colab_type": "code",
        "colab": {}
      },
      "source": [
        "## It seems there is a cell lost during the transmission\n",
        "## It's OK to drop only one row\n",
        "Undefaulted = Undefaulted.dropna(axis=0, subset=['LGD'])"
      ],
      "execution_count": null,
      "outputs": []
    },
    {
      "cell_type": "code",
      "metadata": {
        "id": "b0vv57xzMFOp",
        "colab_type": "code",
        "colab": {
          "base_uri": "https://localhost:8080/",
          "height": 34
        },
        "outputId": "4c297dfa-8fc4-4642-82bd-35ca69e590e4"
      },
      "source": [
        "Undefaulted.shape"
      ],
      "execution_count": null,
      "outputs": [
        {
          "output_type": "execute_result",
          "data": {
            "text/plain": [
              "(367590, 17)"
            ]
          },
          "metadata": {
            "tags": []
          },
          "execution_count": 166
        }
      ]
    },
    {
      "cell_type": "markdown",
      "metadata": {
        "id": "RrVxS31VfnFA",
        "colab_type": "text"
      },
      "source": [
        "### Estimate the LGD for the non-defaulted class using random forest "
      ]
    },
    {
      "cell_type": "code",
      "metadata": {
        "id": "7SNKg8ajB2Gd",
        "colab_type": "code",
        "colab": {
          "base_uri": "https://localhost:8080/",
          "height": 221
        },
        "outputId": "48cf2d9a-a5e6-49c8-84c3-d92dc5784a4a"
      },
      "source": [
        "LGDRF_estimate = LGD_rf.predict(Undefaulted.iloc[:, Undefaulted.columns != 'LGD'])"
      ],
      "execution_count": null,
      "outputs": [
        {
          "output_type": "stream",
          "text": [
            "[Parallel(n_jobs=2)]: Using backend ThreadingBackend with 2 concurrent workers.\n",
            "[Parallel(n_jobs=2)]: Done  46 tasks      | elapsed:    0.1s\n",
            "[Parallel(n_jobs=2)]: Done 196 tasks      | elapsed:    0.4s\n",
            "[Parallel(n_jobs=2)]: Done 446 tasks      | elapsed:    0.8s\n",
            "[Parallel(n_jobs=2)]: Done 796 tasks      | elapsed:    1.5s\n",
            "[Parallel(n_jobs=2)]: Done 1246 tasks      | elapsed:    2.3s\n",
            "[Parallel(n_jobs=2)]: Done 1796 tasks      | elapsed:    3.3s\n",
            "[Parallel(n_jobs=2)]: Done 2446 tasks      | elapsed:    4.5s\n",
            "[Parallel(n_jobs=2)]: Done 3196 tasks      | elapsed:    5.9s\n",
            "[Parallel(n_jobs=2)]: Done 4046 tasks      | elapsed:    7.4s\n",
            "[Parallel(n_jobs=2)]: Done 4996 tasks      | elapsed:    9.1s\n",
            "[Parallel(n_jobs=2)]: Done 5000 out of 5000 | elapsed:    9.1s finished\n"
          ],
          "name": "stderr"
        }
      ]
    },
    {
      "cell_type": "code",
      "metadata": {
        "id": "xaKt8-dPLXdp",
        "colab_type": "code",
        "colab": {
          "base_uri": "https://localhost:8080/",
          "height": 34
        },
        "outputId": "1509d734-527e-4b66-8fb9-c118a33f3719"
      },
      "source": [
        "Average_LGD_rf = LGDRF_estimate.sum() / Undefaulted.shape[0]\n",
        "print(Average_LGD_rf)"
      ],
      "execution_count": null,
      "outputs": [
        {
          "output_type": "stream",
          "text": [
            "0.9296144607002328\n"
          ],
          "name": "stdout"
        }
      ]
    },
    {
      "cell_type": "markdown",
      "metadata": {
        "id": "wie1DNlHgPGy",
        "colab_type": "text"
      },
      "source": [
        "### Estimate the LGD for the non-defaulted class using XGBoosting"
      ]
    },
    {
      "cell_type": "code",
      "metadata": {
        "id": "AyISK4_PRHdw",
        "colab_type": "code",
        "colab": {}
      },
      "source": [
        "LGDxg_estimate = LGD_xg.predict(Undefaulted.iloc[:, Undefaulted.columns != 'LGD'])"
      ],
      "execution_count": null,
      "outputs": []
    },
    {
      "cell_type": "code",
      "metadata": {
        "id": "EkaWx8LoRjAz",
        "colab_type": "code",
        "colab": {
          "base_uri": "https://localhost:8080/",
          "height": 34
        },
        "outputId": "87e345f6-6ac7-4f06-b506-803d62716bab"
      },
      "source": [
        "Average_LGD_xg = LGDxg_estimate.sum() / Undefaulted.shape[0]\n",
        "print(Average_LGD_xg)"
      ],
      "execution_count": null,
      "outputs": [
        {
          "output_type": "stream",
          "text": [
            "0.9012328189895862\n"
          ],
          "name": "stdout"
        }
      ]
    }
  ]
}